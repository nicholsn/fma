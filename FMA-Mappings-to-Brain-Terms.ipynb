{
 "cells": [
  {
   "cell_type": "markdown",
   "metadata": {},
   "source": [
    "## Example Query to Access FMA Mappings to Other Terms\n",
    "\n",
    "This example uses an OWL verison of the FMA that was downloaded from [here][fma].\n",
    "\n",
    "To include mappings to other ontologies/vocabularies/etc., includings brain altases, an owl:AnnotationProperty is used that includes the identifier used by a given vocabulary. To include additional information about that identifier, a pattern is used that intoduces an owl:Axiom for further annotations on an anotation. This allows use to include the labels (i.e., preferred names) from other vocabularies to be included in the FMA. \n",
    "\n",
    "The example below demonstrates how to use fma:preferred_name to lookup the Amygdala brain structure and then access a mapping to the [Neurolex][nlx] vocabulary.\n",
    "\n",
    "[fma]: http://trac.biostr.washington.edu/trac/attachment/wiki/fmaInOWL/fma_v4.0.1.zip\n",
    "[nlx]: neurolex.org/wiki/Main_Page"
   ]
  },
  {
   "cell_type": "code",
   "execution_count": 1,
   "metadata": {
    "collapsed": true
   },
   "outputs": [],
   "source": [
    "import rdflib"
   ]
  },
  {
   "cell_type": "code",
   "execution_count": 3,
   "metadata": {
    "collapsed": false
   },
   "outputs": [
    {
     "data": {
      "text/plain": [
       "<Graph identifier=Ndcddd52503cf490ca89eedaad249a097 (<class 'rdflib.graph.Graph'>)>"
      ]
     },
     "execution_count": 3,
     "metadata": {},
     "output_type": "execute_result"
    }
   ],
   "source": [
    "g = rdflib.Graph()\n",
    "g.parse('fma.owl', format='turtle')"
   ]
  },
  {
   "cell_type": "code",
   "execution_count": 26,
   "metadata": {
    "collapsed": true
   },
   "outputs": [],
   "source": [
    "fma = rdflib.Namespace('http://purl.org/sig/ont/fma/')\n",
    "g.bind('fma', fma)"
   ]
  },
  {
   "cell_type": "code",
   "execution_count": 145,
   "metadata": {
    "collapsed": true
   },
   "outputs": [],
   "source": [
    "query = \"\"\"\n",
    "        SELECT DISTINCT ?fma_uri ?neurolex_id ?nlx_name\n",
    "        WHERE {?fma_uri fma:preferred_name \"Amygdala\"^^xsd:string ;\n",
    "                  fma:Neurolex ?neurolex_id .\n",
    "               ?nlx_annot owl:annotatedTarget ?neurolex_id ;\n",
    "                          fma:name ?nlx_name .}\n",
    "        LIMIT 100\n",
    "        \"\"\""
   ]
  },
  {
   "cell_type": "code",
   "execution_count": 146,
   "metadata": {
    "collapsed": false
   },
   "outputs": [],
   "source": [
    "result = g.query(query)"
   ]
  },
  {
   "cell_type": "code",
   "execution_count": 147,
   "metadata": {
    "collapsed": false
   },
   "outputs": [
    {
     "name": "stdout",
     "output_type": "stream",
     "text": [
      "fma_uri,neurolex_id,nlx_name\r\n",
      "http://purl.org/sig/ont/fma/fma61841,birnlex_1241,Amygdala\r\n",
      "\n"
     ]
    }
   ],
   "source": [
    "print result.serialize(format='csv')"
   ]
  },
  {
   "cell_type": "markdown",
   "metadata": {},
   "source": [
    "## Getting all mappings\n",
    "\n",
    "Now if we want to simply grab all the mappings to Neurolex, we can do the following.\n",
    "\n",
    "Note: A mapping to the Neurolex name is included as an optional pattern as not all Neurolex identifiers have a name listed."
   ]
  },
  {
   "cell_type": "code",
   "execution_count": 156,
   "metadata": {
    "collapsed": true
   },
   "outputs": [],
   "source": [
    "query = \"\"\"\n",
    "        SELECT DISTINCT ?fma_uri ?fma_name ?neurolex_id ?nlx_name\n",
    "        WHERE {?fma_uri fma:preferred_name ?fma_name ;\n",
    "                  fma:Neurolex ?neurolex_id .\n",
    "               OPTIONAL {?nlx_annot owl:annotatedTarget ?neurolex_id ;\n",
    "                          fma:name ?nlx_name .}\n",
    "              }\n",
    "        \"\"\""
   ]
  },
  {
   "cell_type": "code",
   "execution_count": 157,
   "metadata": {
    "collapsed": false
   },
   "outputs": [
    {
     "name": "stdout",
     "output_type": "stream",
     "text": [
      "fma_uri,fma_name,neurolex_id,nlx_name\r\n",
      "http://purl.org/sig/ont/fma/fma72969,Right frontal lobe,birnlex_1786,\r\n",
      "http://purl.org/sig/ont/fma/fma61981,Opercular part of inferior frontal gyrus,birnlex_823,\r\n",
      "http://purl.org/sig/ont/fma/fma61899,Superior parietal lobule,birnlex_1450,Superior parietal cortex\r\n",
      "http://purl.org/sig/ont/fma/fma74042,CA1 field,birnlex_1197,CA1\r\n",
      "http://purl.org/sig/ont/fma/fma80183,Intermediate orbital gyrus,birnlex_1247,\r\n",
      "http://purl.org/sig/ont/fma/fma72971,Right temporal lobe,birnlex_1785,\r\n",
      "http://purl.org/sig/ont/fma/fma61980,Triangular part of inferior frontal gyrus,birnlex_1216,\r\n",
      "http://purl.org/sig/ont/fma/fma50801,Brain,birnlex_796,\r\n",
      "http://purl.org/sig/ont/fma/fma72973,Right parietal lobe,birnlex_1729,\r\n",
      "http://purl.org/sig/ont/fma/fma61921,Fasciolar gyrus,birnlex_1129,\r\n",
      "http://purl.org/sig/ont/fma/fma72976,Left occipital lobe,birnlex_1782,\r\n",
      "http://purl.org/sig/ont/fma/fma62434,Cingulate gyrus,birnlex_798,\r\n",
      "http://purl.org/sig/ont/fma/fma83701,Temporal horn of lateral ventricle,birnlex_1292,Inferior horn of the lateral ventricle\r\n",
      "http://purl.org/sig/ont/fma/fma80184,Posterior orbital gyrus,birnlex_1054,\r\n",
      "http://purl.org/sig/ont/fma/fma61905,Superior temporal gyrus,birnlex_1648,\r\n",
      "http://purl.org/sig/ont/fma/fma61904,Lingual gyrus,birnlex_740,\r\n",
      "http://purl.org/sig/ont/fma/fma61898,Angular gyrus,birnlex_1376,\r\n",
      "http://purl.org/sig/ont/fma/fma62486,Presubiculum,birnlex_1108,\r\n",
      "http://purl.org/sig/ont/fma/fma67292,Right cerebral hemisphere,birnlex_1797,\r\n",
      "http://purl.org/sig/ont/fma/fma61894,Precentral gyrus,birnlex_1455,\r\n",
      "http://purl.org/sig/ont/fma/fma61924,Posterior cingulate gyrus,birnlex_1546,\r\n",
      "http://purl.org/sig/ont/fma/fma61901,Superior occipital gyrus,birnlex_758,\r\n",
      "http://purl.org/sig/ont/fma/fma61992,Forebrain,birnlex_1509,\r\n",
      "http://purl.org/sig/ont/fma/fma7647,Spinal cord,birnlex_1709,\r\n",
      "http://purl.org/sig/ont/fma/fma61903,Cuneus,birnlex_1396,Cuneus cortex\r\n",
      "http://purl.org/sig/ont/fma/fma61896,Postcentral gyrus,birnlex_1070,\r\n",
      "http://purl.org/sig/ont/fma/fma72974,Left parietal lobe,birnlex_1728,\r\n",
      "http://purl.org/sig/ont/fma/fma62007,Thalamus,birnlex_954,\r\n",
      "http://purl.org/sig/ont/fma/fma61922,Dentate gyrus of hippocampus,birnlex_1178,Dentate gyrus\r\n",
      "http://purl.org/sig/ont/fma/fma61830,Cerebral cortex,birnlex_1494,\r\n",
      "http://purl.org/sig/ont/fma/fma78448,Lateral ventricle,birnlex_1263,\r\n",
      "http://purl.org/sig/ont/fma/fma61900,Precuneus,birnlex_1446,Precuneus cortex\r\n",
      "http://purl.org/sig/ont/fma/fma61897,Supramarginal gyrus,birnlex_1381,\r\n",
      "http://purl.org/sig/ont/fma/fma61860,Inferior frontal gyrus,birnlex_873,\r\n",
      "http://purl.org/sig/ont/fma/fma61908,Fusiform gyrus,birnlex_1641,\r\n",
      "http://purl.org/sig/ont/fma/fma72719,Limbic lobe,birnlex_1128,\r\n",
      "http://purl.org/sig/ont/fma/fma72972,Left temporal lobe,birnlex_1784,\r\n",
      "http://purl.org/sig/ont/fma/fma77536,Inferior parietal lobule,birnlex_1194,Inferior parietal cortex\r\n",
      "http://purl.org/sig/ont/fma/fma62502,Isthmus of cingulate gyrus,birnlex_1541,\r\n",
      "http://purl.org/sig/ont/fma/fma61920,Supracallosal gyrus,birnlex_1316,\r\n",
      "http://purl.org/sig/ont/fma/fma61824,Frontal lobe,birnlex_928,\r\n",
      "http://purl.org/sig/ont/fma/fma62001,Diencephalon,birnlex_1503,\r\n",
      "http://purl.org/sig/ont/fma/fma61906,Middle temporal gyrus,birnlex_1653,\r\n",
      "http://purl.org/sig/ont/fma/fma72970,Left frontal lobe,birnlex_1787,\r\n",
      "http://purl.org/sig/ont/fma/fma86464,Corpus callosum,birnlex_1087,\r\n",
      "http://purl.org/sig/ont/fma/fma67687,Hindbrain,birnlex_942,\r\n",
      "http://purl.org/sig/ont/fma/fma61841,Amygdala,birnlex_1241,Amygdala\r\n",
      "http://purl.org/sig/ont/fma/fma74044,CA2 field,birnlex_1362,CA2\r\n",
      "http://purl.org/sig/ont/fma/fma61909,Anterior transverse temporal gyrus,birnlex_1657,\r\n",
      "http://purl.org/sig/ont/fma/fma61893,Straight gyrus,birnlex_1103,Gyrus rectus\r\n",
      "http://purl.org/sig/ont/fma/fma61859,Middle frontal gyrus,birnlex_1451,\r\n",
      "http://purl.org/sig/ont/fma/fma61833,Caudate nucleus,birnlex_1373,\r\n",
      "http://purl.org/sig/ont/fma/fma61825,Temporal lobe,birnlex_1160,\r\n",
      "http://purl.org/sig/ont/fma/fma242003,Orbitofrontal cortex,birnlex_1049,\r\n",
      "http://purl.org/sig/ont/fma/fma61910,Posterior transverse temporal gyrus,birnlex_1661,\r\n",
      "http://purl.org/sig/ont/fma/fma61902,Lateral occipital gyrus,birnlex_735,Lateral occipital cortex\r\n",
      "http://purl.org/sig/ont/fma/fma72975,Right occipital lobe,birnlex_1783,\r\n",
      "http://purl.org/sig/ont/fma/fma72980,Right limbic lobe,birnlex_1781,\r\n",
      "http://purl.org/sig/ont/fma/fma74886,Frontal operculum,birnlex_751,\r\n",
      "http://purl.org/sig/ont/fma/fma61857,Superior frontal gyrus,birnlex_1303,Superior frontal gyrus\r\n",
      "http://purl.org/sig/ont/fma/fma61907,Inferior temporal gyrus,birnlex_1577,\r\n",
      "http://purl.org/sig/ont/fma/fma72981,Left limbic lobe,birnlex_1780,\r\n",
      "http://purl.org/sig/ont/fma/fma62418,Lateral orbital gyrus,birnlex_1036,\r\n",
      "http://purl.org/sig/ont/fma/fma61819,Left cerebral hemisphere,birnlex_1795,\r\n",
      "http://purl.org/sig/ont/fma/fma61993,Midbrain,birnlex_1667,\r\n",
      "http://purl.org/sig/ont/fma/fma67966,Posterior segment of parahippocampal gyrus,birnlex_1295,\r\n",
      "http://purl.org/sig/ont/fma/fma74885,Frontal pole,birnlex_1716,\r\n",
      "http://purl.org/sig/ont/fma/fma61826,Parietal lobe,birnlex_1148,\r\n",
      "http://purl.org/sig/ont/fma/fma72684,Left superior temporal gyrus,Superior_frontal_gyrus,Superior_frontal_gyrus\r\n",
      "http://purl.org/sig/ont/fma/fma62419,Medial orbital gyrus,birnlex_1046,\r\n",
      "http://purl.org/sig/ont/fma/fma61982,Orbital part of inferior frontal gyrus,birnlex_1207,\r\n",
      "http://purl.org/sig/ont/fma/fma62045,Optic chiasm,birnlex_1416,\r\n",
      "http://purl.org/sig/ont/fma/fma74045,CA3 field,birnlex_1204,CA3\r\n",
      "http://purl.org/sig/ont/fma/fma61918,Parahippocampal gyrus,birnlex_807,\r\n",
      "http://purl.org/sig/ont/fma/fma67329,Insula,birnlex_1117,\r\n",
      "http://purl.org/sig/ont/fma/fma55675,Neuraxis,birnlex_1099,Central nervous system\r\n",
      "http://purl.org/sig/ont/fma/fma67325,Occipital lobe,birnlex_1136,\r\n",
      "http://purl.org/sig/ont/fma/fma74509,Medial olfactory gyrus,birnlex_1127,\r\n",
      "http://purl.org/sig/ont/fma/fma61916,Anterior cingulate gyrus,birnlex_1603,\r\n",
      "http://purl.org/sig/ont/fma/fma62000,Telencephalon,birnlex_1115,\r\n",
      "\n"
     ]
    }
   ],
   "source": [
    "result = g.query(query)\n",
    "print result.serialize(format='csv')"
   ]
  }
 ],
 "metadata": {
  "kernelspec": {
   "display_name": "Python 2",
   "language": "python",
   "name": "python2"
  },
  "language_info": {
   "codemirror_mode": {
    "name": "ipython",
    "version": 2
   },
   "file_extension": ".py",
   "mimetype": "text/x-python",
   "name": "python",
   "nbconvert_exporter": "python",
   "pygments_lexer": "ipython2",
   "version": "2.7.10"
  }
 },
 "nbformat": 4,
 "nbformat_minor": 0
}
